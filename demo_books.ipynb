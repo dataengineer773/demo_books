{
 "cells": [
  {
   "cell_type": "code",
   "execution_count": 1,
   "id": "ae2214b3-cde8-4283-b203-ec32b44bd874",
   "metadata": {},
   "outputs": [],
   "source": [
    "with open(\"books.py\", \"w\") as f:\n",
    "    f.write(\"\"\"\n",
    "from typing import TypedDict\n",
    "\n",
    "class BookDict(TypedDict):\n",
    "    isbn: str\n",
    "    title: str\n",
    "    author: str\n",
    "\"\"\")"
   ]
  },
  {
   "cell_type": "code",
   "execution_count": 2,
   "id": "2b1fcd15-fd9c-403f-b402-5ee3a071de06",
   "metadata": {},
   "outputs": [],
   "source": [
    "\n",
    "from typing import TypedDict\n",
    "\n",
    "class BookDict(TypedDict):\n",
    "    isbn: str\n",
    "    title: str\n",
    "    authors: list[str]\n",
    "    pagecount: int\n"
   ]
  },
  {
   "cell_type": "code",
   "execution_count": 3,
   "id": "fa85c927-1961-4906-b977-2b337957a3d9",
   "metadata": {},
   "outputs": [],
   "source": [
    "from books import BookDict"
   ]
  },
  {
   "cell_type": "code",
   "execution_count": 9,
   "id": "50468b64-0f88-49ef-a597-9dad3aa96b3d",
   "metadata": {},
   "outputs": [],
   "source": [
    "pp = BookDict(\n",
    "    title='Programming Pearls',\n",
    "    authors='John Bentley',\n",
    "    isbn='0201657',\n",
    "    pagecount=256\n",
    ")"
   ]
  },
  {
   "cell_type": "code",
   "execution_count": 10,
   "id": "e8b231da-030c-4c11-8954-263e4ffd815d",
   "metadata": {},
   "outputs": [
    {
     "data": {
      "text/plain": [
       "{'title': 'Programming Pearls',\n",
       " 'authors': 'John Bentley',\n",
       " 'isbn': '0201657',\n",
       " 'pagecount': 256}"
      ]
     },
     "execution_count": 10,
     "metadata": {},
     "output_type": "execute_result"
    }
   ],
   "source": [
    "pp"
   ]
  },
  {
   "cell_type": "code",
   "execution_count": 12,
   "id": "4e0e1b9d-95b9-40b0-b00a-e7774a92cd7b",
   "metadata": {},
   "outputs": [],
   "source": [
    "from typing import TYPE_CHECKING"
   ]
  },
  {
   "cell_type": "code",
   "execution_count": 14,
   "id": "c31bc9a5-9545-4cbc-a5d0-1525ade83026",
   "metadata": {},
   "outputs": [],
   "source": [
    "def demo() -> None:\n",
    "    book = BookDict(\n",
    "        isbn='0134757599',\n",
    "        title='Refactoring, 2e',\n",
    "        authors=['Martin Fowler', 'Kent Beck'],\n",
    "        pagecount=478\n",
    "    )\n",
    "    authors = book['authors']\n",
    "    if TYPE_CHECKING:\n",
    "        reveal_type(authors)\n",
    "    authors ='Bob'\n",
    "    book['weight'] = 4.2\n",
    "    del book['title']"
   ]
  },
  {
   "cell_type": "code",
   "execution_count": 15,
   "id": "bdb7dd73-7dd1-4735-a55c-d5e28ddbd60f",
   "metadata": {},
   "outputs": [],
   "source": [
    "if __name__ == '__main__':\n",
    "    demo()"
   ]
  },
  {
   "cell_type": "code",
   "execution_count": null,
   "id": "d870340c-8bf2-4182-b8c9-ae1ee34eb97a",
   "metadata": {},
   "outputs": [],
   "source": []
  }
 ],
 "metadata": {
  "kernelspec": {
   "display_name": "Python 3 (ipykernel)",
   "language": "python",
   "name": "python3"
  },
  "language_info": {
   "codemirror_mode": {
    "name": "ipython",
    "version": 3
   },
   "file_extension": ".py",
   "mimetype": "text/x-python",
   "name": "python",
   "nbconvert_exporter": "python",
   "pygments_lexer": "ipython3",
   "version": "3.12.3"
  }
 },
 "nbformat": 4,
 "nbformat_minor": 5
}
